{
 "cells": [
  {
   "cell_type": "code",
   "execution_count": 1,
   "metadata": {},
   "outputs": [],
   "source": [
    "import os\n",
    "# set tmp file dir to local.\n",
    "# NOTE: this is important. not setting the tmp dir will casue the os drive to be OOM.\n",
    "temp_path = os.path.join(\"/media/kwanz/New Volume/deepfake/\", \"tmp\")\n",
    "if not os.path.exists(temp_path):\n",
    "    os.makedirs(temp_path)\n",
    "\n",
    "os.environ[\"TMPDIR\"]=temp_path\n",
    "os.environ[\"TEMP\"]=temp_path\n",
    "os.environ[\"TORCH_EXTENSIONS_DIR\"]=temp_path\n",
    "os.environ[\"TORCH_HOME\"]=temp_path\n",
    "os.environ[\"HF_HOME\"]=temp_path\n",
    "\n",
    "import tempfile\n",
    "tempfile.tempdir=temp_path\n",
    "import torch\n",
    "torch.hub.set_dir(temp_path)\n",
    "\n",
    "import sys\n",
    "# so to include libs in parent dir such as lib\n",
    "module_path = os.path.abspath(os.path.join('..'))\n",
    "if module_path not in sys.path:\n",
    "    sys.path.append(module_path)"
   ]
  },
  {
   "cell_type": "code",
   "execution_count": 2,
   "metadata": {},
   "outputs": [],
   "source": [
    "os.environ[\"CUDA_VISIBLE_DEVICES\"] = \"0\""
   ]
  },
  {
   "cell_type": "code",
   "execution_count": 3,
   "metadata": {},
   "outputs": [],
   "source": [
    "import random\n",
    "import numpy as np\n",
    "import matplotlib.pyplot as plt\n",
    "from torch import nn\n",
    "from torch.utils.data import DataLoader\n",
    "from torch.optim.lr_scheduler import ReduceLROnPlateau\n",
    "from torchvision import datasets\n",
    "from torchvision.models import resnet101, ResNet101_Weights, efficientnet_b4, EfficientNet_B4_Weights\n",
    "from tqdm import tqdm\n",
    "import clip"
   ]
  },
  {
   "cell_type": "code",
   "execution_count": 4,
   "metadata": {},
   "outputs": [
    {
     "name": "stdout",
     "output_type": "stream",
     "text": [
      "GPU 0: NVIDIA RTX A6000\n"
     ]
    }
   ],
   "source": [
    "# Check if CUDA is available\n",
    "if torch.cuda.is_available():\n",
    "    num_gpus = torch.cuda.device_count()\n",
    "    # List the name of each GPU\n",
    "    for i in range(num_gpus):\n",
    "        device_name = torch.cuda.get_device_name(i)\n",
    "        print(f\"GPU {i}: {device_name}\")\n",
    "else:\n",
    "    print(\"CUDA is not available. Using CPU.\")"
   ]
  },
  {
   "cell_type": "code",
   "execution_count": 5,
   "metadata": {},
   "outputs": [],
   "source": [
    "device = \"cuda\" if torch.cuda.is_available() else \"cpu\""
   ]
  },
  {
   "cell_type": "markdown",
   "metadata": {},
   "source": [
    "## Utils"
   ]
  },
  {
   "cell_type": "code",
   "execution_count": 6,
   "metadata": {},
   "outputs": [],
   "source": [
    "def set_seed(seed):\n",
    "    \"\"\"Set seed for reproducibility across Python, NumPy, and PyTorch.\"\"\"\n",
    "    random.seed(seed)\n",
    "    np.random.seed(seed)\n",
    "    torch.manual_seed(seed)\n",
    "    torch.cuda.manual_seed_all(seed)\n",
    "    torch.backends.cudnn.deterministic = True\n",
    "    torch.backends.cudnn.benchmark = False"
   ]
  },
  {
   "cell_type": "code",
   "execution_count": 7,
   "metadata": {},
   "outputs": [],
   "source": [
    "# Function to calculate DCF\n",
    "def compute_dcf(y_true, y_pred, C_miss=1, C_fa=1, P_target=0.5):\n",
    "    \"\"\"\n",
    "    Computes the Detection Cost Function (DCF).\n",
    "    Args:\n",
    "        y_true (torch.Tensor): True labels (0s and 1s).\n",
    "        y_pred (torch.Tensor): Predicted probabilities.\n",
    "        C_miss (float): Cost of misses.\n",
    "        C_fa (float): Cost of false alarms.\n",
    "        P_target (float): Prior probability of the target class.\n",
    "    Returns:\n",
    "        float: DCF score.\n",
    "    \"\"\"\n",
    "    y_pred = (y_pred >= 0.5).float()\n",
    "    fn = ((y_true == 1) & (y_pred == 0)).sum().item()\n",
    "    fp = ((y_true == 0) & (y_pred == 1)).sum().item()\n",
    "    tn = ((y_true == 0) & (y_pred == 0)).sum().item()\n",
    "    tp = ((y_true == 1) & (y_pred == 1)).sum().item()\n",
    "\n",
    "    fnr = fn / (fn + tp) if (fn + tp) > 0 else 0  # False negative rate\n",
    "    fpr = fp / (fp + tn) if (fp + tn) > 0 else 0  # False positive rate\n",
    "\n",
    "    dcf = C_miss * P_target * fnr + C_fa * (1 - P_target) * fpr\n",
    "    return dcf"
   ]
  },
  {
   "cell_type": "code",
   "execution_count": 8,
   "metadata": {},
   "outputs": [],
   "source": [
    "class EarlyStopping:\n",
    "    \"\"\"Early stopping to stop training when DCF doesn't improve after a certain patience.\"\"\"\n",
    "    def __init__(self, patience=5, verbose=False, delta=0, path='../models/best_model.pth'):\n",
    "        self.patience = patience\n",
    "        self.verbose = verbose\n",
    "        self.counter = 0\n",
    "        self.best_score = None\n",
    "        self.early_stop = False\n",
    "        self.delta = delta\n",
    "        self.path = path\n",
    "\n",
    "    def __call__(self, dcf, model):\n",
    "        score = -dcf  # We use negative DCF because lower is better\n",
    "\n",
    "        if self.best_score is None:\n",
    "            self.best_score = score\n",
    "            self.save_checkpoint(dcf, model)\n",
    "        elif score < self.best_score + self.delta:\n",
    "            self.counter += 1\n",
    "            if self.verbose:\n",
    "                print(f'EarlyStopping counter: {self.counter} out of {self.patience}')\n",
    "            if self.counter >= self.patience:\n",
    "                self.early_stop = True\n",
    "        else:\n",
    "            self.best_score = score\n",
    "            self.save_checkpoint(dcf, model)\n",
    "            self.counter = 0\n",
    "\n",
    "    def save_checkpoint(self, dcf, model):\n",
    "        if self.verbose:\n",
    "            print(f'DCF improved, saving model ...')\n",
    "        torch.save(model.state_dict(), self.path)"
   ]
  },
  {
   "cell_type": "markdown",
   "metadata": {},
   "source": [
    "## Model"
   ]
  },
  {
   "cell_type": "code",
   "execution_count": 9,
   "metadata": {},
   "outputs": [],
   "source": [
    "class CLIPExtractor(nn.Module):\n",
    "    def __init__(self, model_type=\"ViT-B/32\", device=\"cuda\", download_dir=None):\n",
    "        super(CLIPExtractor, self).__init__()\n",
    "        self.device = device\n",
    "        self.model, self.preprocess = clip.load(model_type, device=device, download_root=download_dir)\n",
    "        \n",
    "        # Text prompt for analysis\n",
    "        self.prompt = [\n",
    "            \"Analyze the image for indicators of authenticity or manipulation, \"\n",
    "            \"focusing on natural textures, lighting, facial feature consistency, \"\n",
    "            \"background realism, and possible artifacts such as mismatched reflections, \"\n",
    "            \"edge transitions, or unnatural elements.\"\n",
    "        ]\n",
    "        self.text_tokens = clip.tokenize(self.prompt).to(device)\n",
    "\n",
    "    def forward(self, images):\n",
    "        \"\"\"\n",
    "        Forward pass to extract features.\n",
    "        \n",
    "        Args:\n",
    "            images: A batch of preprocessed images [batch_size, 3, 224, 224].\n",
    "        \n",
    "        Returns:\n",
    "            image_features: Image embeddings for the batch [batch_size, feature_dim].\n",
    "            text_features: Text embeddings for the prompt [1, feature_dim].\n",
    "            similarity: Optional similarity scores [batch_size].\n",
    "        \"\"\"\n",
    "        images = images.to(self.device)\n",
    "\n",
    "        # Extract embeddings\n",
    "        with torch.no_grad():\n",
    "            image_features = self.model.encode_image(images)  # [batch_size, feature_dim]\n",
    "            text_features = self.model.encode_text(self.text_tokens)  # [1, feature_dim]\n",
    "\n",
    "        # Normalize the embeddings\n",
    "        image_features = image_features / image_features.norm(dim=-1, keepdim=True)\n",
    "        text_features = text_features / text_features.norm(dim=-1, keepdim=True)\n",
    "        \n",
    "        text_features = text_features.expand(images.size(0), -1)\n",
    "        \n",
    "        return image_features, text_features\n"
   ]
  },
  {
   "cell_type": "code",
   "execution_count": 10,
   "metadata": {},
   "outputs": [],
   "source": [
    "class ResnetModel(nn.Module):\n",
    "    def __init__(self):\n",
    "        super(ResnetModel, self).__init__()\n",
    "        self.model = resnet101(weights=ResNet101_Weights.DEFAULT)\n",
    "        \n",
    "        self.model.fc = nn.Linear(2048, 512)\n",
    "\n",
    "    def forward(self, x):\n",
    "        x = x.to(device)\n",
    "        return self.model(x)"
   ]
  },
  {
   "cell_type": "code",
   "execution_count": 11,
   "metadata": {},
   "outputs": [],
   "source": [
    "class ENetModel(nn.Module):\n",
    "    def __init__(self):\n",
    "        super(ENetModel, self).__init__()\n",
    "        self.model = efficientnet_b4(weights=EfficientNet_B4_Weights.DEFAULT)\n",
    "\n",
    "        for param in self.model.features.parameters():\n",
    "            param.requires_grad = True\n",
    "\n",
    "        in_features = self.model.classifier[1].in_features\n",
    "        self.model.classifier = nn.Sequential(\n",
    "            nn.Dropout(p=0.4, inplace=True),\n",
    "            nn.Linear(in_features, 512)\n",
    "        )\n",
    "    \n",
    "    def forward(self, x):\n",
    "        x = x.to(device)\n",
    "        return self.model(x)"
   ]
  },
  {
   "cell_type": "code",
   "execution_count": null,
   "metadata": {},
   "outputs": [],
   "source": [
    "class ChannelAttentionModule(nn.Module):\n",
    "    def __init__(self, in_channels, reduction_ratio=16):\n",
    "        super(ChannelAttentionModule, self).__init__()\n",
    "        # Reduction layer: Reduces channel dimensions to a smaller embedding size\n",
    "        self.avg_pool = nn.AdaptiveAvgPool2d(1)  # Global average pooling\n",
    "        self.fc1 = nn.Linear(in_channels, in_channels // reduction_ratio, bias=False)\n",
    "        self.relu = nn.ReLU()\n",
    "        self.fc2 = nn.Linear(in_channels // reduction_ratio, in_channels, bias=False)\n",
    "        self.sigmoid = nn.Sigmoid()\n",
    "\n",
    "    def forward(self, x):\n",
    "        # Input: (batch_size, channels, height, width)\n",
    "        b, c, _, _ = x.size()\n",
    "\n",
    "        # Global average pooling\n",
    "        avg_out = self.avg_pool(x).view(b, c)\n",
    "\n",
    "        # Fully connected layers\n",
    "        out = self.fc1(avg_out)\n",
    "        out = self.relu(out)\n",
    "        out = self.fc2(out)\n",
    "        weights = self.sigmoid(out).view(b, c, 1, 1)\n",
    "\n",
    "        # Apply learned weights\n",
    "        return x * weights\n"
   ]
  },
  {
   "cell_type": "code",
   "execution_count": 12,
   "metadata": {},
   "outputs": [],
   "source": [
    "class CustomClassifier(nn.Module):\n",
    "    def __init__(self):\n",
    "        super(CustomClassifier, self).__init__()\n",
    "        # Define dimensions\n",
    "        cnn_channels = 512\n",
    "        vlm_channels = 512 * 2  # Combined size of CLIP image and text embeddings\n",
    "        fused_channels = 256  # Output channels after dimensionality reduction\n",
    "        reduction_ratio = 16\n",
    "\n",
    "        # Channel Attention Modules\n",
    "        self.cnn_cam = ChannelAttentionModule(cnn_channels, reduction_ratio)\n",
    "        self.vlm_cam = ChannelAttentionModule(vlm_channels, reduction_ratio)\n",
    "\n",
    "        # 1x1 Convolutions for dimensionality reduction\n",
    "        self.cnn_reduce = nn.Conv2d(cnn_channels, fused_channels, kernel_size=1)\n",
    "        self.vlm_reduce = nn.Conv2d(vlm_channels, fused_channels, kernel_size=1)\n",
    "\n",
    "        # Fusion layer (concatenation followed by convolution)\n",
    "        self.fusion = nn.Conv2d(fused_channels * 2, fused_channels, kernel_size=1)\n",
    "\n",
    "        # Fully connected layers for classification\n",
    "        self.mlp = nn.Sequential(\n",
    "            nn.AdaptiveAvgPool2d(1),  # Global average pooling\n",
    "            nn.Flatten(),\n",
    "            nn.Linear(fused_channels, 512),\n",
    "            nn.ReLU(),\n",
    "            nn.Dropout(0.4),\n",
    "            nn.Linear(512, 1),\n",
    "            nn.Sigmoid()  # Binary classification\n",
    "        )\n",
    "\n",
    "    def forward(self, bb_embed, img_emb, text_emb):\n",
    "        # bb_embed, img_emb, text_emb are expected to be in shape [batch, channels, height, width]\n",
    "        # Apply Channel Attention Modules\n",
    "        cnn_attended = self.cnn_cam(bb_embed)\n",
    "        vlm_attended = self.vlm_cam(torch.cat([img_emb, text_emb], dim=1))\n",
    "\n",
    "        # Reduce dimensions\n",
    "        cnn_reduced = self.cnn_reduce(cnn_attended)\n",
    "        vlm_reduced = self.vlm_reduce(vlm_attended)\n",
    "\n",
    "        # Fuse features\n",
    "        fused = torch.cat([cnn_reduced, vlm_reduced], dim=1)\n",
    "        fused = self.fusion(fused)\n",
    "\n",
    "        # Pass through MLP for classification\n",
    "        output = self.mlp(fused)\n",
    "        return output\n"
   ]
  },
  {
   "cell_type": "code",
   "execution_count": 13,
   "metadata": {},
   "outputs": [],
   "source": [
    "class CustomModel(nn.Module):\n",
    "    def __init__(self, backbone_model):\n",
    "        super(CustomModel, self).__init__()\n",
    "        self.backbone = backbone_model\n",
    "        self.extractor = CLIPExtractor().to(device)\n",
    "        self.classifier = CustomClassifier().to(device)\n",
    "        self.clip_preprocess = self.extractor.preprocess\n",
    "        \n",
    "    def forward(self, x):\n",
    "        img_emb, text_emb = self.extractor(x)  # get text embeddings based on img\n",
    "        \n",
    "        bb_embed = self.backbone(x)  # get image embeddings\n",
    "        x = self.classifier(img_emb, text_emb, bb_embed)\n",
    "        return x\n",
    "    \n",
    "    def load_data(self, batch_size):\n",
    "        train_data = datasets.ImageFolder(\"../data/train\", transform=self.clip_preprocess)\n",
    "\n",
    "        valid_data = datasets.ImageFolder(\"../data/valid\", transform=self.clip_preprocess)\n",
    "\n",
    "        self.train_loader = DataLoader(\n",
    "            train_data, \n",
    "            batch_size=batch_size, \n",
    "            shuffle=True,\n",
    "            num_workers=4\n",
    "        )\n",
    "\n",
    "        self.valid_loader = DataLoader(\n",
    "            valid_data, \n",
    "            batch_size=batch_size, \n",
    "            shuffle=False,\n",
    "            num_workers=1\n",
    "        )\n",
    "    \n",
    "    def start_training(\n",
    "            self, criterion, optimizer, \n",
    "            scheduler, early_stopping, num_epochs\n",
    "        ):\n",
    "        train_losses = []\n",
    "        val_losses = []\n",
    "        \n",
    "        for epoch in range(num_epochs):\n",
    "            self.train()\n",
    "            running_loss = 0.0\n",
    "            with tqdm(self.train_loader, desc=f\"Epoch [{epoch+1}/{num_epochs}]\", unit=\"batch\") as pbar:\n",
    "                for images, labels in pbar:\n",
    "                    labels = labels.float().unsqueeze(1).to(device)\n",
    "\n",
    "                    outputs = self(images)\n",
    "                    loss = criterion(outputs, labels)\n",
    "\n",
    "                    optimizer.zero_grad()\n",
    "                    loss.backward()\n",
    "                    optimizer.step()\n",
    "\n",
    "                    running_loss += loss.item()\n",
    "                    pbar.set_postfix({\"Train Loss\": f\"{running_loss / (pbar.n + 1):.4f}\"})\n",
    "\n",
    "            # Store training loss for the epoch\n",
    "            epoch_train_loss = running_loss / len(self.train_loader)\n",
    "            train_losses.append(epoch_train_loss)\n",
    "\n",
    "            # Validation\n",
    "            self.eval()\n",
    "            val_running_loss = 0.0\n",
    "            correct = 0\n",
    "            total = 0\n",
    "            y_true = []\n",
    "            y_pred = []\n",
    "            with torch.no_grad():\n",
    "                with tqdm(self.valid_loader, desc=\"Validation\", unit=\"batch\", leave=False) as val_pbar:\n",
    "                    for images, labels in val_pbar:\n",
    "                        images = images.to(device)\n",
    "                        labels = labels.float().to(device)\n",
    "                        outputs = self(images).squeeze()\n",
    "                        val_loss_batch = criterion(outputs, labels)\n",
    "                        val_running_loss += val_loss_batch.item()\n",
    "\n",
    "                        # Calculate accuracy\n",
    "                        predicted = (outputs >= 0.5).float()  # Threshold for binary classification\n",
    "                        correct += (predicted == labels).sum().item()\n",
    "                        total += labels.size(0)\n",
    "\n",
    "                        y_true.append(labels.cpu())\n",
    "                        y_pred.append(outputs.cpu())\n",
    "\n",
    "            # Store validation loss for the epoch\n",
    "            epoch_val_loss = val_running_loss / len(self.valid_loader)\n",
    "            val_losses.append(epoch_val_loss)\n",
    "\n",
    "            y_true = torch.cat(y_true)\n",
    "            y_pred = torch.cat(y_pred)\n",
    "            dcf = compute_dcf(y_true, y_pred)\n",
    "            val_accuracy = 100 * correct / total\n",
    "\n",
    "            # Step the scheduler\n",
    "            scheduler.step(dcf)\n",
    "\n",
    "            # Early stopping step\n",
    "            early_stopping(dcf, self)\n",
    "\n",
    "            print(f'Validation DCF: {dcf:.4f} | Acc: {val_accuracy:.2f} | lr: {scheduler._last_lr}\\n')\n",
    "\n",
    "            if early_stopping.early_stop:\n",
    "                print(f\"Early stopping triggered at epoch {epoch+1}\")\n",
    "                break\n",
    "\n",
    "        print(\"Training complete!\")\n",
    "        return train_losses, val_losses\n",
    "    "
   ]
  },
  {
   "cell_type": "markdown",
   "metadata": {},
   "source": [
    "## Params"
   ]
  },
  {
   "cell_type": "code",
   "execution_count": 14,
   "metadata": {},
   "outputs": [],
   "source": [
    "batch_size = 64\n",
    "seed = 42\n",
    "lr = 1e-4\n",
    "num_epochs = 30\n",
    "set_seed(seed)"
   ]
  },
  {
   "cell_type": "code",
   "execution_count": 16,
   "metadata": {},
   "outputs": [],
   "source": [
    "model = CustomModel(backbone_model=ResnetModel()).to(device)"
   ]
  },
  {
   "cell_type": "code",
   "execution_count": 42,
   "metadata": {},
   "outputs": [],
   "source": [
    "criterion = nn.BCEWithLogitsLoss()\n",
    "optimizer = torch.optim.Adam(model.parameters(), lr=lr)\n",
    "scheduler = ReduceLROnPlateau(optimizer, mode='min', factor=0.1, patience=5, verbose=True)\n",
    "early_stopping = EarlyStopping(patience=10, verbose=True)"
   ]
  },
  {
   "cell_type": "markdown",
   "metadata": {},
   "source": [
    "## Train"
   ]
  },
  {
   "cell_type": "code",
   "execution_count": 43,
   "metadata": {},
   "outputs": [
    {
     "name": "stderr",
     "output_type": "stream",
     "text": [
      "Epoch [1/30]: 100%|██████████| 4097/4097 [16:37<00:00,  4.11batch/s, Train Loss=0.0809]\n",
      "                                                              \r"
     ]
    },
    {
     "name": "stdout",
     "output_type": "stream",
     "text": [
      "DCF improved, saving model ...\n",
      "Validation DCF: 0.1097 | Acc: 89.00 | lr: [0.0001]\n",
      "\n"
     ]
    },
    {
     "name": "stderr",
     "output_type": "stream",
     "text": [
      "Epoch [2/30]: 100%|██████████| 4097/4097 [16:37<00:00,  4.11batch/s, Train Loss=0.0312]\n",
      "                                                              \r"
     ]
    },
    {
     "name": "stdout",
     "output_type": "stream",
     "text": [
      "EarlyStopping counter: 1 out of 10\n",
      "Validation DCF: 0.1703 | Acc: 82.88 | lr: [0.0001]\n",
      "\n"
     ]
    },
    {
     "name": "stderr",
     "output_type": "stream",
     "text": [
      "Epoch [3/30]: 100%|██████████| 4097/4097 [16:37<00:00,  4.11batch/s, Train Loss=0.0235]\n",
      "                                                              \r"
     ]
    },
    {
     "name": "stdout",
     "output_type": "stream",
     "text": [
      "EarlyStopping counter: 2 out of 10\n",
      "Validation DCF: 0.1284 | Acc: 87.11 | lr: [0.0001]\n",
      "\n"
     ]
    },
    {
     "name": "stderr",
     "output_type": "stream",
     "text": [
      "Epoch [4/30]: 100%|██████████| 4097/4097 [17:00<00:00,  4.02batch/s, Train Loss=0.0200]\n",
      "                                                              \r"
     ]
    },
    {
     "name": "stdout",
     "output_type": "stream",
     "text": [
      "EarlyStopping counter: 3 out of 10\n",
      "Validation DCF: 0.1355 | Acc: 86.46 | lr: [0.0001]\n",
      "\n"
     ]
    },
    {
     "name": "stderr",
     "output_type": "stream",
     "text": [
      "Epoch [5/30]: 100%|██████████| 4097/4097 [16:37<00:00,  4.11batch/s, Train Loss=0.0173]\n",
      "                                                              \r"
     ]
    },
    {
     "name": "stdout",
     "output_type": "stream",
     "text": [
      "EarlyStopping counter: 4 out of 10\n",
      "Validation DCF: 0.1350 | Acc: 86.46 | lr: [0.0001]\n",
      "\n"
     ]
    },
    {
     "name": "stderr",
     "output_type": "stream",
     "text": [
      "Epoch [6/30]: 100%|██████████| 4097/4097 [16:36<00:00,  4.11batch/s, Train Loss=0.0150]\n",
      "                                                              \r"
     ]
    },
    {
     "name": "stdout",
     "output_type": "stream",
     "text": [
      "DCF improved, saving model ...\n",
      "Validation DCF: 0.0898 | Acc: 91.02 | lr: [0.0001]\n",
      "\n"
     ]
    },
    {
     "name": "stderr",
     "output_type": "stream",
     "text": [
      "Epoch [7/30]: 100%|██████████| 4097/4097 [16:37<00:00,  4.11batch/s, Train Loss=0.0133]\n",
      "                                                              \r"
     ]
    },
    {
     "name": "stdout",
     "output_type": "stream",
     "text": [
      "EarlyStopping counter: 1 out of 10\n",
      "Validation DCF: 0.1095 | Acc: 89.00 | lr: [0.0001]\n",
      "\n"
     ]
    },
    {
     "name": "stderr",
     "output_type": "stream",
     "text": [
      "Epoch [8/30]: 100%|██████████| 4097/4097 [16:37<00:00,  4.11batch/s, Train Loss=0.0114]\n",
      "                                                              \r"
     ]
    },
    {
     "name": "stdout",
     "output_type": "stream",
     "text": [
      "EarlyStopping counter: 2 out of 10\n",
      "Validation DCF: 0.1293 | Acc: 87.04 | lr: [0.0001]\n",
      "\n"
     ]
    },
    {
     "name": "stderr",
     "output_type": "stream",
     "text": [
      "Epoch [9/30]: 100%|██████████| 4097/4097 [16:37<00:00,  4.11batch/s, Train Loss=0.0105]\n",
      "                                                              \r"
     ]
    },
    {
     "name": "stdout",
     "output_type": "stream",
     "text": [
      "EarlyStopping counter: 3 out of 10\n",
      "Validation DCF: 0.1353 | Acc: 86.39 | lr: [0.0001]\n",
      "\n"
     ]
    },
    {
     "name": "stderr",
     "output_type": "stream",
     "text": [
      "Epoch [10/30]: 100%|██████████| 4097/4097 [16:37<00:00,  4.11batch/s, Train Loss=0.0099]\n",
      "                                                              \r"
     ]
    },
    {
     "name": "stdout",
     "output_type": "stream",
     "text": [
      "EarlyStopping counter: 4 out of 10\n",
      "Validation DCF: 0.1266 | Acc: 87.27 | lr: [0.0001]\n",
      "\n"
     ]
    },
    {
     "name": "stderr",
     "output_type": "stream",
     "text": [
      "Epoch [11/30]: 100%|██████████| 4097/4097 [17:33<00:00,  3.89batch/s, Train Loss=0.0087]\n",
      "                                                              \r"
     ]
    },
    {
     "name": "stdout",
     "output_type": "stream",
     "text": [
      "EarlyStopping counter: 5 out of 10\n",
      "Validation DCF: 0.1207 | Acc: 87.92 | lr: [0.0001]\n",
      "\n"
     ]
    },
    {
     "name": "stderr",
     "output_type": "stream",
     "text": [
      "Epoch [12/30]: 100%|██████████| 4097/4097 [18:40<00:00,  3.66batch/s, Train Loss=0.0086]\n",
      "                                                              \r"
     ]
    },
    {
     "name": "stdout",
     "output_type": "stream",
     "text": [
      "EarlyStopping counter: 6 out of 10\n",
      "Validation DCF: 0.1534 | Acc: 84.57 | lr: [1e-05]\n",
      "\n"
     ]
    },
    {
     "name": "stderr",
     "output_type": "stream",
     "text": [
      "Epoch [13/30]: 100%|██████████| 4097/4097 [18:06<00:00,  3.77batch/s, Train Loss=0.0034]\n",
      "                                                              \r"
     ]
    },
    {
     "name": "stdout",
     "output_type": "stream",
     "text": [
      "EarlyStopping counter: 7 out of 10\n",
      "Validation DCF: 0.0941 | Acc: 90.56 | lr: [1e-05]\n",
      "\n"
     ]
    },
    {
     "name": "stderr",
     "output_type": "stream",
     "text": [
      "Epoch [14/30]: 100%|██████████| 4097/4097 [18:23<00:00,  3.71batch/s, Train Loss=0.0015]\n",
      "                                                              \r"
     ]
    },
    {
     "name": "stdout",
     "output_type": "stream",
     "text": [
      "EarlyStopping counter: 8 out of 10\n",
      "Validation DCF: 0.1083 | Acc: 89.13 | lr: [1e-05]\n",
      "\n"
     ]
    },
    {
     "name": "stderr",
     "output_type": "stream",
     "text": [
      "Epoch [15/30]: 100%|██████████| 4097/4097 [19:00<00:00,  3.59batch/s, Train Loss=0.0008]\n",
      "                                                              \r"
     ]
    },
    {
     "name": "stdout",
     "output_type": "stream",
     "text": [
      "EarlyStopping counter: 9 out of 10\n",
      "Validation DCF: 0.1171 | Acc: 88.25 | lr: [1e-05]\n",
      "\n"
     ]
    },
    {
     "name": "stderr",
     "output_type": "stream",
     "text": [
      "Epoch [16/30]: 100%|██████████| 4097/4097 [18:56<00:00,  3.61batch/s, Train Loss=0.0006]\n",
      "                                                              "
     ]
    },
    {
     "name": "stdout",
     "output_type": "stream",
     "text": [
      "EarlyStopping counter: 10 out of 10\n",
      "Validation DCF: 0.1245 | Acc: 87.50 | lr: [1e-05]\n",
      "\n",
      "Early stopping triggered at epoch 16\n",
      "Training complete!\n"
     ]
    },
    {
     "name": "stderr",
     "output_type": "stream",
     "text": [
      "\r"
     ]
    },
    {
     "data": {
      "image/png": "[encoded data removed]",
      "text/plain": [
       "<Figure size 1000x600 with 1 Axes>"
      ]
     },
     "metadata": {},
     "output_type": "display_data"
    }
   ],
   "source": [
    "model.load_data(batch_size)\n",
    "train_losses, val_losses = model.start_training(\n",
    "    criterion, optimizer, scheduler, early_stopping, num_epochs\n",
    ")\n",
    "\n",
    "# Plot the loss graph\n",
    "plt.figure(figsize=(10, 6))\n",
    "plt.plot(range(1, len(train_losses) + 1), train_losses, label='Train Loss')\n",
    "plt.plot(range(1, len(val_losses) + 1), val_losses, label='Validation Loss')\n",
    "plt.xlabel('Epochs')\n",
    "plt.ylabel('Loss')\n",
    "plt.title('Training and Validation Loss')\n",
    "plt.legend()\n",
    "plt.grid()\n",
    "plt.show()"
   ]
  },
  {
   "cell_type": "code",
   "execution_count": 17,
   "metadata": {},
   "outputs": [
    {
     "name": "stderr",
     "output_type": "stream",
     "text": [
      "/media/kwanz/New Volume/deepfake/tmp/ipykernel_225109/305749840.py:9: FutureWarning: You are using `torch.load` with `weights_only=False` (the current default value), which uses the default pickle module implicitly. It is possible to construct malicious pickle data which will execute arbitrary code during unpickling (See https://github.com/pytorch/pytorch/blob/main/SECURITY.md#untrusted-models for more details). In a future release, the default value for `weights_only` will be flipped to `True`. This limits the functions that could be executed during unpickling. Arbitrary objects will no longer be allowed to be loaded via this mode unless they are explicitly allowlisted by the user via `torch.serialization.add_safe_globals`. We recommend you start setting `weights_only=True` for any use case where you don't have full control of the loaded file. Please open an issue on GitHub for any issues related to this experimental feature.\n",
      "  model.load_state_dict(torch.load(\"../models/91_clip_extractor.pth\"))\n",
      "Evaluating Model: 100%|██████████| 48/48 [00:10<00:00,  4.67it/s]"
     ]
    },
    {
     "name": "stdout",
     "output_type": "stream",
     "text": [
      "Model Accuracy: 91.28%\n"
     ]
    },
    {
     "name": "stderr",
     "output_type": "stream",
     "text": [
      "\n"
     ]
    }
   ],
   "source": [
    "import torchvision.transforms as transforms\n",
    "from PIL import Image\n",
    "\n",
    "# Define a transformation to convert tensors back to images for display\n",
    "to_pil_image = transforms.ToPILImage()\n",
    "\n",
    "model = CustomModel(backbone_model=ResnetModel()).to(device)\n",
    "# Load the trained model\n",
    "model.load_state_dict(torch.load(\"../models/91_clip_extractor.pth\"))\n",
    "model.load_data(batch_size)\n",
    "model = model.to(device)  # Move the model to the device\n",
    "model.eval()  # Set the model to evaluation mode\n",
    "\n",
    "correct = 0\n",
    "total = 0\n",
    "misclassified_labels = []  # To store corresponding labels\n",
    "misclassified_predictions = []  # To store predicted values\n",
    "\n",
    "with torch.no_grad():\n",
    "    for images, labels in tqdm(model.valid_loader, desc=\"Evaluating Model\"):\n",
    "        images = images.to(device)\n",
    "        labels = labels.float().to(device)\n",
    "        outputs = model(images).squeeze()\n",
    "        outputs = torch.sigmoid(outputs)\n",
    "        # Apply threshold for binary classification\n",
    "        predicted = (outputs >= 0.5).float()\n",
    "        \n",
    "        correct += (predicted == labels).sum().item()\n",
    "        total += labels.size(0)\n",
    "\n",
    "# Calculate and print accuracy\n",
    "accuracy = 100 * correct / total\n",
    "\n",
    "print(f'Model Accuracy: {accuracy:.2f}%')"
   ]
  },
  {
   "cell_type": "code",
   "execution_count": 18,
   "metadata": {},
   "outputs": [],
   "source": [
    "torch.save(model, \"../models/full_model.pth\")"
   ]
  },
  {
   "cell_type": "markdown",
   "metadata": {},
   "source": [
    "# GRADCAM"
   ]
  },
  {
   "cell_type": "code",
   "execution_count": 45,
   "metadata": {},
   "outputs": [],
   "source": [
    "import torch\n",
    "import torch.nn.functional as F\n",
    "import numpy as np\n",
    "import cv2\n",
    "from torchvision.transforms.functional import normalize\n",
    "\n",
    "class GradCAM:\n",
    "    def __init__(self, model, target_layer):\n",
    "        \"\"\"\n",
    "        Initialize Grad-CAM with a model and the target convolutional layer.\n",
    "        \"\"\"\n",
    "        self.model = model\n",
    "        self.target_layer = target_layer\n",
    "        self.gradients = None\n",
    "        self.activations = None\n",
    "\n",
    "        # Register hooks\n",
    "        self.target_layer.register_forward_hook(self.save_activations)\n",
    "        self.target_layer.register_backward_hook(self.save_gradients)\n",
    "\n",
    "    def save_activations(self, module, input, output):\n",
    "        self.activations = output\n",
    "\n",
    "    def save_gradients(self, module, grad_input, grad_output):\n",
    "        self.gradients = grad_output[0]\n",
    "\n",
    "    def generate_heatmap(self, input_tensor, class_idx=None):\n",
    "        \"\"\"\n",
    "        Generate Grad-CAM heatmap.\n",
    "        \"\"\"\n",
    "        self.model.eval()\n",
    "\n",
    "        # Forward pass\n",
    "        output = self.model(input_tensor)\n",
    "\n",
    "        # If class_idx is None, take the class with the max score\n",
    "        if class_idx is None:\n",
    "            class_idx = output.argmax(dim=1).item()\n",
    "        \n",
    "        # Backward pass\n",
    "        self.model.zero_grad()\n",
    "        output[:, class_idx].backward()\n",
    "\n",
    "        # Compute Grad-CAM heatmap\n",
    "        gradients = self.gradients.cpu().data.numpy()[0]\n",
    "        activations = self.activations.cpu().data.numpy()[0]\n",
    "        weights = np.mean(gradients, axis=(1, 2))  # Global Average Pooling on gradients\n",
    "        cam = np.zeros(activations.shape[1:], dtype=np.float32)\n",
    "\n",
    "        for i, w in enumerate(weights):\n",
    "            cam += w * activations[i]\n",
    "\n",
    "        cam = np.maximum(cam, 0)  # ReLU\n",
    "        cam = cv2.resize(cam, (input_tensor.size(3), input_tensor.size(2)))  # Resize to input size\n",
    "        cam -= np.min(cam)\n",
    "        cam /= np.max(cam)\n",
    "        return cam\n",
    "\n",
    "    def overlay_heatmap(self, heatmap, image, alpha=0.5):\n",
    "        \"\"\"\n",
    "        Overlay the Grad-CAM heatmap onto the original image.\n",
    "\n",
    "        Args:\n",
    "            heatmap: Grad-CAM heatmap (2D array).\n",
    "            image: Original PIL image.\n",
    "            alpha: Transparency level for the heatmap overlay.\n",
    "\n",
    "        Returns:\n",
    "            overlay: Heatmap blended with the original image.\n",
    "        \"\"\"\n",
    "        # Ensure heatmap and image have the same dimensions\n",
    "        image = np.array(image)  # Convert PIL image to NumPy array\n",
    "        heatmap = cv2.resize(heatmap, (image.shape[1], image.shape[0]))  # Resize heatmap\n",
    "\n",
    "        # Normalize heatmap to [0, 255]\n",
    "        heatmap = np.uint8(255 * heatmap)\n",
    "\n",
    "        # Convert the heatmap to a color map\n",
    "        heatmap = cv2.applyColorMap(heatmap, cv2.COLORMAP_JET)\n",
    "\n",
    "        # Ensure the original image is in BGR format for OpenCV\n",
    "        if image.shape[-1] == 3:  # If RGB\n",
    "            image = cv2.cvtColor(image, cv2.COLOR_RGB2BGR)\n",
    "\n",
    "        # Overlay heatmap on the original image\n",
    "        overlay = cv2.addWeighted(image, 1 - alpha, heatmap, alpha, 0)\n",
    "\n",
    "        # Convert back to RGB for display\n",
    "        overlay = cv2.cvtColor(overlay, cv2.COLOR_BGR2RGB)\n",
    "        return overlay\n",
    "\n"
   ]
  },
  {
   "cell_type": "code",
   "execution_count": 46,
   "metadata": {},
   "outputs": [],
   "source": [
    "\n",
    "import matplotlib.pyplot as plt\n",
    "import torchvision.transforms as transforms\n"
   ]
  },
  {
   "cell_type": "code",
   "execution_count": 47,
   "metadata": {},
   "outputs": [],
   "source": [
    "class InferenceWorker:\n",
    "    def __init__(self):\n",
    "        self.device = \"cuda\" if torch.cuda.is_available() else \"cpu\"\n",
    "        self.batch_size = 64\n",
    "        self.seed = 42\n",
    "        self.lr = 1e-4\n",
    "        self.num_epochs = 20\n",
    "        set_seed(self.seed)\n",
    "\n",
    "    def load_model(self):\n",
    "        # Load the model\n",
    "        self.model = CustomModel(backbone_model=ResnetModel()).to(self.device)\n",
    "        # Load the trained model\n",
    "        self.model.load_state_dict(torch.load(\"../models/90_6_clip_extractor.pth\"))\n",
    "        self.model = self.model.to(self.device)\n",
    "        self.model.eval()  # Ensure the model is in evaluation mode\n",
    "\n",
    "        # Initialize Grad-CAM\n",
    "        self.grad_cam = GradCAM(self.model, target_layer=self.model.backbone.model.layer4)\n",
    "\n",
    "    def predict_and_explain(self, image):\n",
    "        \"\"\"\n",
    "        Predict and generate Grad-CAM heatmap.\n",
    "        \"\"\"\n",
    "        # Ensure consistent preprocessing\n",
    "        transform = self.model.clip_preprocess  # Use the same transform as training\n",
    "        input_tensor = transform(image).unsqueeze(0).to(self.device)\n",
    "\n",
    "        # Make prediction\n",
    "        with torch.no_grad():\n",
    "            logits = self.model(input_tensor).squeeze()  # Raw logits\n",
    "            predicted = (logits >= 0.5).float()\n",
    "\n",
    "        # Generate Grad-CAM heatmap\n",
    "        heatmap = self.grad_cam.generate_heatmap(input_tensor)\n",
    "\n",
    "        # Overlay heatmap on the image\n",
    "        overlay = self.grad_cam.overlay_heatmap(heatmap, image)\n",
    "\n",
    "        return predicted, overlay\n"
   ]
  },
  {
   "cell_type": "code",
   "execution_count": null,
   "metadata": {},
   "outputs": [
    {
     "name": "stderr",
     "output_type": "stream",
     "text": [
      "/media/kwanz/New Volume/deepfake/tmp/ipykernel_2049374/2588153492.py:14: FutureWarning: You are using `torch.load` with `weights_only=False` (the current default value), which uses the default pickle module implicitly. It is possible to construct malicious pickle data which will execute arbitrary code during unpickling (See https://github.com/pytorch/pytorch/blob/main/SECURITY.md#untrusted-models for more details). In a future release, the default value for `weights_only` will be flipped to `True`. This limits the functions that could be executed during unpickling. Arbitrary objects will no longer be allowed to be loaded via this mode unless they are explicitly allowlisted by the user via `torch.serialization.add_safe_globals`. We recommend you start setting `weights_only=True` for any use case where you don't have full control of the loaded file. Please open an issue on GitHub for any issues related to this experimental feature.\n",
      "  self.model.load_state_dict(torch.load(\"../models/90_6_clip_extractor.pth\"))\n"
     ]
    },
    {
     "name": "stdout",
     "output_type": "stream",
     "text": [
      "Prediction: 1.0\n"
     ]
    },
    {
     "name": "stderr",
     "output_type": "stream",
     "text": [
      "/media/kwanz/New Volume/deepfake/.venv/lib/python3.10/site-packages/torch/nn/modules/module.py:1827: FutureWarning: Using a non-full backward hook when the forward contains multiple autograd Nodes is deprecated and will be removed in future versions. This hook will be missing some grad_input. Please use register_full_backward_hook to get the documented behavior.\n",
      "  self._maybe_warn_non_full_backward_hook(args, result, grad_fn)\n"
     ]
    },
    {
     "name": "stderr",
     "output_type": "stream",
     "text": [
      "Error: no \"view\" rule for type \"image/png\" passed its test case\n",
      "       (for more information, add \"--debug=1\" on the command line)\n"
     ]
    }
   ],
   "source": [
    "worker = InferenceWorker()\n",
    "worker.load_model()\n",
    "\n",
    "# Load an image for inference and explanation\n",
    "from PIL import Image\n",
    "test_image = Image.open(\"/media/kwanz/New Volume/deepfake/data/valid/real/valid_real_0054724.png\")\n",
    "\n",
    "# Get predictions and Grad-CAM overlay\n",
    "prediction, overlay = worker.predict_and_explain(test_image)\n",
    "\n",
    "# Display results\n",
    "print(f\"Prediction: {prediction}\")\n",
    "Image.fromarray(overlay).show()"
   ]
  },
  {
   "cell_type": "code",
   "execution_count": null,
   "metadata": {},
   "outputs": [],
   "source": []
  }
 ],
 "metadata": {
  "kernelspec": {
   "display_name": ".venv",
   "language": "python",
   "name": "python3"
  },
  "language_info": {
   "codemirror_mode": {
    "name": "ipython",
    "version": 3
   },
   "file_extension": ".py",
   "mimetype": "text/x-python",
   "name": "python",
   "nbconvert_exporter": "python",
   "pygments_lexer": "ipython3",
   "version": "3.10.12"
  }
 },
 "nbformat": 4,
 "nbformat_minor": 2
}
